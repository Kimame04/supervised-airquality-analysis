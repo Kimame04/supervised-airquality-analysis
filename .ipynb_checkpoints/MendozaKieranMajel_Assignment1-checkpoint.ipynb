{
 "cells": [
  {
   "cell_type": "markdown",
   "metadata": {},
   "source": [
    "## Analysis of Air Quality Data\n",
    "by Mendoza, Kieran Majel (M21504)"
   ]
  },
  {
   "cell_type": "markdown",
   "metadata": {},
   "source": [
    "### Objectives\n",
    "\n",
    "After training, the model should be able to:\n",
    "\n",
    "1. Identify a suitable indicator for overall pollutant level.\n",
    "2. Use this indicator to accurately predict the fluctuations in overall pollutant levels."
   ]
  },
  {
   "cell_type": "markdown",
   "metadata": {},
   "source": [
    "### Problem Description\n",
    "\n",
    "Domain: Environment\n",
    "\n",
    "Air pollution is becoming an increasing problem in many countries around the world. Training a model to predict when pollutant levels will go up or down will help authorities issue advisories at appropriate timings to residents, preserving their long-term health. Hardcoding specific rules on detecting fluctuation patterns will be tedious and complex. \n",
    "\n",
    "Therefore, training a model to understand these patterns and adapt to pattern changes is preferred. This can be done through finding a key indicator that correlates with pollution levels. This brings the benefit of cost-effiency in real-world scenarios due to minimal sensor equipment needed, while not affecting the accuracy significantly."
   ]
  },
  {
   "cell_type": "markdown",
   "metadata": {},
   "source": [
    "### 1. Data Collection\n",
    "The dataset can be found [here](https://archive.ics.uci.edu/ml/datasets/Air+Quality#). It is taken from the UCI Machine Learning Repository. It contains readings of 10 different pollutants, taken in hourly intervals in Italy from 2004 to 2005. Temperature and humidity information is also provided."
   ]
  },
  {
   "cell_type": "code",
   "execution_count": 1,
   "metadata": {
    "scrolled": true
   },
   "outputs": [
    {
     "data": {
      "text/html": [
       "<div>\n",
       "<style scoped>\n",
       "    .dataframe tbody tr th:only-of-type {\n",
       "        vertical-align: middle;\n",
       "    }\n",
       "\n",
       "    .dataframe tbody tr th {\n",
       "        vertical-align: top;\n",
       "    }\n",
       "\n",
       "    .dataframe thead th {\n",
       "        text-align: right;\n",
       "    }\n",
       "</style>\n",
       "<table border=\"1\" class=\"dataframe\">\n",
       "  <thead>\n",
       "    <tr style=\"text-align: right;\">\n",
       "      <th></th>\n",
       "      <th>Date</th>\n",
       "      <th>Time</th>\n",
       "      <th>CO(GT)</th>\n",
       "      <th>PT08.S1(CO)</th>\n",
       "      <th>NMHC(GT)</th>\n",
       "      <th>C6H6(GT)</th>\n",
       "      <th>PT08.S2(NMHC)</th>\n",
       "      <th>NOx(GT)</th>\n",
       "      <th>PT08.S3(NOx)</th>\n",
       "      <th>NO2(GT)</th>\n",
       "      <th>PT08.S4(NO2)</th>\n",
       "      <th>PT08.S5(O3)</th>\n",
       "      <th>T</th>\n",
       "      <th>RH</th>\n",
       "      <th>AH</th>\n",
       "    </tr>\n",
       "  </thead>\n",
       "  <tbody>\n",
       "    <tr>\n",
       "      <th>0</th>\n",
       "      <td>2004-03-10</td>\n",
       "      <td>18:00:00</td>\n",
       "      <td>2.6</td>\n",
       "      <td>1360.00</td>\n",
       "      <td>150</td>\n",
       "      <td>11.881723</td>\n",
       "      <td>1045.50</td>\n",
       "      <td>166.0</td>\n",
       "      <td>1056.25</td>\n",
       "      <td>113.0</td>\n",
       "      <td>1692.00</td>\n",
       "      <td>1267.50</td>\n",
       "      <td>13.60</td>\n",
       "      <td>48.875001</td>\n",
       "      <td>0.757754</td>\n",
       "    </tr>\n",
       "    <tr>\n",
       "      <th>1</th>\n",
       "      <td>2004-03-10</td>\n",
       "      <td>19:00:00</td>\n",
       "      <td>2.0</td>\n",
       "      <td>1292.25</td>\n",
       "      <td>112</td>\n",
       "      <td>9.397165</td>\n",
       "      <td>954.75</td>\n",
       "      <td>103.0</td>\n",
       "      <td>1173.75</td>\n",
       "      <td>92.0</td>\n",
       "      <td>1558.75</td>\n",
       "      <td>972.25</td>\n",
       "      <td>13.30</td>\n",
       "      <td>47.700000</td>\n",
       "      <td>0.725487</td>\n",
       "    </tr>\n",
       "    <tr>\n",
       "      <th>2</th>\n",
       "      <td>2004-03-10</td>\n",
       "      <td>20:00:00</td>\n",
       "      <td>2.2</td>\n",
       "      <td>1402.00</td>\n",
       "      <td>88</td>\n",
       "      <td>8.997817</td>\n",
       "      <td>939.25</td>\n",
       "      <td>131.0</td>\n",
       "      <td>1140.00</td>\n",
       "      <td>114.0</td>\n",
       "      <td>1554.50</td>\n",
       "      <td>1074.00</td>\n",
       "      <td>11.90</td>\n",
       "      <td>53.975000</td>\n",
       "      <td>0.750239</td>\n",
       "    </tr>\n",
       "    <tr>\n",
       "      <th>3</th>\n",
       "      <td>2004-03-10</td>\n",
       "      <td>21:00:00</td>\n",
       "      <td>2.2</td>\n",
       "      <td>1375.50</td>\n",
       "      <td>80</td>\n",
       "      <td>9.228796</td>\n",
       "      <td>948.25</td>\n",
       "      <td>172.0</td>\n",
       "      <td>1092.00</td>\n",
       "      <td>122.0</td>\n",
       "      <td>1583.75</td>\n",
       "      <td>1203.25</td>\n",
       "      <td>11.00</td>\n",
       "      <td>60.000000</td>\n",
       "      <td>0.786713</td>\n",
       "    </tr>\n",
       "    <tr>\n",
       "      <th>4</th>\n",
       "      <td>2004-03-10</td>\n",
       "      <td>22:00:00</td>\n",
       "      <td>1.6</td>\n",
       "      <td>1272.25</td>\n",
       "      <td>51</td>\n",
       "      <td>6.518224</td>\n",
       "      <td>835.50</td>\n",
       "      <td>131.0</td>\n",
       "      <td>1205.00</td>\n",
       "      <td>116.0</td>\n",
       "      <td>1490.00</td>\n",
       "      <td>1110.00</td>\n",
       "      <td>11.15</td>\n",
       "      <td>59.575001</td>\n",
       "      <td>0.788794</td>\n",
       "    </tr>\n",
       "  </tbody>\n",
       "</table>\n",
       "</div>"
      ],
      "text/plain": [
       "        Date      Time  CO(GT)  PT08.S1(CO)  NMHC(GT)   C6H6(GT)  \\\n",
       "0 2004-03-10  18:00:00     2.6      1360.00       150  11.881723   \n",
       "1 2004-03-10  19:00:00     2.0      1292.25       112   9.397165   \n",
       "2 2004-03-10  20:00:00     2.2      1402.00        88   8.997817   \n",
       "3 2004-03-10  21:00:00     2.2      1375.50        80   9.228796   \n",
       "4 2004-03-10  22:00:00     1.6      1272.25        51   6.518224   \n",
       "\n",
       "   PT08.S2(NMHC)  NOx(GT)  PT08.S3(NOx)  NO2(GT)  PT08.S4(NO2)  PT08.S5(O3)  \\\n",
       "0        1045.50    166.0       1056.25    113.0       1692.00      1267.50   \n",
       "1         954.75    103.0       1173.75     92.0       1558.75       972.25   \n",
       "2         939.25    131.0       1140.00    114.0       1554.50      1074.00   \n",
       "3         948.25    172.0       1092.00    122.0       1583.75      1203.25   \n",
       "4         835.50    131.0       1205.00    116.0       1490.00      1110.00   \n",
       "\n",
       "       T         RH        AH  \n",
       "0  13.60  48.875001  0.757754  \n",
       "1  13.30  47.700000  0.725487  \n",
       "2  11.90  53.975000  0.750239  \n",
       "3  11.00  60.000000  0.786713  \n",
       "4  11.15  59.575001  0.788794  "
      ]
     },
     "execution_count": 1,
     "metadata": {},
     "output_type": "execute_result"
    }
   ],
   "source": [
    "#imports\n",
    "import pandas as pd\n",
    "import numpy as np\n",
    "import matplotlib.pyplot as plt\n",
    "import seaborn as sns\n",
    "from scipy import stats\n",
    "\n",
    "import datetime as dt\n",
    "import time\n",
    "\n",
    "from sklearn.decomposition import PCA\n",
    "from sklearn.pipeline import Pipeline\n",
    "from sklearn.model_selection import GridSearchCV\n",
    "from sklearn.metrics import roc_curve, mean_squared_error\n",
    "from sklearn.linear_model import LogisticRegression, Ridge, Lasso, LinearRegression, ElasticNet\n",
    "from sklearn.model_selection import cross_val_score, train_test_split\n",
    "from sklearn.neighbors import KNeighborsRegressor\n",
    "\n",
    "import warnings\n",
    "warnings.filterwarnings(\"ignore\")\n",
    "\n",
    "\n",
    "df = pd.read_excel('AirQualityUCI.xlsx')\n",
    "df.head()"
   ]
  },
  {
   "cell_type": "markdown",
   "metadata": {},
   "source": [
    "### 2. Data Preprocessing"
   ]
  },
  {
   "cell_type": "markdown",
   "metadata": {},
   "source": [
    "Based on the dataset description, missing values are given the -200 value. We convert them to NaN and then assign them the mean of the respective column."
   ]
  },
  {
   "cell_type": "code",
   "execution_count": 2,
   "metadata": {
    "scrolled": false
   },
   "outputs": [
    {
     "data": {
      "text/html": [
       "<div>\n",
       "<style scoped>\n",
       "    .dataframe tbody tr th:only-of-type {\n",
       "        vertical-align: middle;\n",
       "    }\n",
       "\n",
       "    .dataframe tbody tr th {\n",
       "        vertical-align: top;\n",
       "    }\n",
       "\n",
       "    .dataframe thead th {\n",
       "        text-align: right;\n",
       "    }\n",
       "</style>\n",
       "<table border=\"1\" class=\"dataframe\">\n",
       "  <thead>\n",
       "    <tr style=\"text-align: right;\">\n",
       "      <th></th>\n",
       "      <th>CO(GT)</th>\n",
       "      <th>PT08.S1(CO)</th>\n",
       "      <th>NMHC(GT)</th>\n",
       "      <th>C6H6(GT)</th>\n",
       "      <th>PT08.S2(NMHC)</th>\n",
       "      <th>NOx(GT)</th>\n",
       "      <th>PT08.S3(NOx)</th>\n",
       "      <th>NO2(GT)</th>\n",
       "      <th>PT08.S4(NO2)</th>\n",
       "      <th>PT08.S5(O3)</th>\n",
       "      <th>T</th>\n",
       "      <th>RH</th>\n",
       "      <th>AH</th>\n",
       "    </tr>\n",
       "  </thead>\n",
       "  <tbody>\n",
       "    <tr>\n",
       "      <th>count</th>\n",
       "      <td>9357.000000</td>\n",
       "      <td>9357.000000</td>\n",
       "      <td>9357.000000</td>\n",
       "      <td>9357.000000</td>\n",
       "      <td>9357.000000</td>\n",
       "      <td>9357.00000</td>\n",
       "      <td>9357.000000</td>\n",
       "      <td>9357.000000</td>\n",
       "      <td>9357.000000</td>\n",
       "      <td>9357.000000</td>\n",
       "      <td>9357.000000</td>\n",
       "      <td>9357.000000</td>\n",
       "      <td>9357.000000</td>\n",
       "    </tr>\n",
       "    <tr>\n",
       "      <th>mean</th>\n",
       "      <td>-4.387203</td>\n",
       "      <td>1097.719315</td>\n",
       "      <td>-122.176302</td>\n",
       "      <td>9.761568</td>\n",
       "      <td>937.286501</td>\n",
       "      <td>233.17001</td>\n",
       "      <td>833.786864</td>\n",
       "      <td>103.434514</td>\n",
       "      <td>1453.609601</td>\n",
       "      <td>1020.909882</td>\n",
       "      <td>17.982032</td>\n",
       "      <td>48.851037</td>\n",
       "      <td>0.717963</td>\n",
       "    </tr>\n",
       "    <tr>\n",
       "      <th>std</th>\n",
       "      <td>14.027700</td>\n",
       "      <td>213.024263</td>\n",
       "      <td>129.104282</td>\n",
       "      <td>7.474247</td>\n",
       "      <td>261.700451</td>\n",
       "      <td>195.69477</td>\n",
       "      <td>251.864204</td>\n",
       "      <td>48.630803</td>\n",
       "      <td>339.597678</td>\n",
       "      <td>390.719056</td>\n",
       "      <td>8.815266</td>\n",
       "      <td>17.079214</td>\n",
       "      <td>1.575049</td>\n",
       "    </tr>\n",
       "    <tr>\n",
       "      <th>min</th>\n",
       "      <td>-34.207524</td>\n",
       "      <td>647.250000</td>\n",
       "      <td>-159.090093</td>\n",
       "      <td>0.149048</td>\n",
       "      <td>383.250000</td>\n",
       "      <td>2.00000</td>\n",
       "      <td>322.000000</td>\n",
       "      <td>2.000000</td>\n",
       "      <td>551.000000</td>\n",
       "      <td>221.000000</td>\n",
       "      <td>-1.900000</td>\n",
       "      <td>9.175000</td>\n",
       "      <td>-6.837604</td>\n",
       "    </tr>\n",
       "    <tr>\n",
       "      <th>25%</th>\n",
       "      <td>0.600000</td>\n",
       "      <td>941.250000</td>\n",
       "      <td>-159.090093</td>\n",
       "      <td>4.004958</td>\n",
       "      <td>742.500000</td>\n",
       "      <td>112.00000</td>\n",
       "      <td>665.500000</td>\n",
       "      <td>58.135898</td>\n",
       "      <td>1241.500000</td>\n",
       "      <td>741.750000</td>\n",
       "      <td>10.950000</td>\n",
       "      <td>36.550000</td>\n",
       "      <td>0.692275</td>\n",
       "    </tr>\n",
       "    <tr>\n",
       "      <th>50%</th>\n",
       "      <td>1.500000</td>\n",
       "      <td>1052.500000</td>\n",
       "      <td>-159.090093</td>\n",
       "      <td>7.886653</td>\n",
       "      <td>894.500000</td>\n",
       "      <td>168.60420</td>\n",
       "      <td>794.872333</td>\n",
       "      <td>96.000000</td>\n",
       "      <td>1445.500000</td>\n",
       "      <td>974.951534</td>\n",
       "      <td>17.200000</td>\n",
       "      <td>48.550000</td>\n",
       "      <td>0.976823</td>\n",
       "    </tr>\n",
       "    <tr>\n",
       "      <th>75%</th>\n",
       "      <td>2.600000</td>\n",
       "      <td>1221.250000</td>\n",
       "      <td>-159.090093</td>\n",
       "      <td>13.636091</td>\n",
       "      <td>1104.750000</td>\n",
       "      <td>284.20000</td>\n",
       "      <td>960.250000</td>\n",
       "      <td>133.000000</td>\n",
       "      <td>1662.000000</td>\n",
       "      <td>1255.250000</td>\n",
       "      <td>24.075000</td>\n",
       "      <td>61.875000</td>\n",
       "      <td>1.296223</td>\n",
       "    </tr>\n",
       "    <tr>\n",
       "      <th>max</th>\n",
       "      <td>11.900000</td>\n",
       "      <td>2039.750000</td>\n",
       "      <td>1189.000000</td>\n",
       "      <td>63.741476</td>\n",
       "      <td>2214.000000</td>\n",
       "      <td>1479.00000</td>\n",
       "      <td>2682.750000</td>\n",
       "      <td>339.700000</td>\n",
       "      <td>2775.000000</td>\n",
       "      <td>2522.750000</td>\n",
       "      <td>44.600000</td>\n",
       "      <td>88.725000</td>\n",
       "      <td>2.231036</td>\n",
       "    </tr>\n",
       "  </tbody>\n",
       "</table>\n",
       "</div>"
      ],
      "text/plain": [
       "            CO(GT)  PT08.S1(CO)     NMHC(GT)     C6H6(GT)  PT08.S2(NMHC)  \\\n",
       "count  9357.000000  9357.000000  9357.000000  9357.000000    9357.000000   \n",
       "mean     -4.387203  1097.719315  -122.176302     9.761568     937.286501   \n",
       "std      14.027700   213.024263   129.104282     7.474247     261.700451   \n",
       "min     -34.207524   647.250000  -159.090093     0.149048     383.250000   \n",
       "25%       0.600000   941.250000  -159.090093     4.004958     742.500000   \n",
       "50%       1.500000  1052.500000  -159.090093     7.886653     894.500000   \n",
       "75%       2.600000  1221.250000  -159.090093    13.636091    1104.750000   \n",
       "max      11.900000  2039.750000  1189.000000    63.741476    2214.000000   \n",
       "\n",
       "          NOx(GT)  PT08.S3(NOx)      NO2(GT)  PT08.S4(NO2)  PT08.S5(O3)  \\\n",
       "count  9357.00000   9357.000000  9357.000000   9357.000000  9357.000000   \n",
       "mean    233.17001    833.786864   103.434514   1453.609601  1020.909882   \n",
       "std     195.69477    251.864204    48.630803    339.597678   390.719056   \n",
       "min       2.00000    322.000000     2.000000    551.000000   221.000000   \n",
       "25%     112.00000    665.500000    58.135898   1241.500000   741.750000   \n",
       "50%     168.60420    794.872333    96.000000   1445.500000   974.951534   \n",
       "75%     284.20000    960.250000   133.000000   1662.000000  1255.250000   \n",
       "max    1479.00000   2682.750000   339.700000   2775.000000  2522.750000   \n",
       "\n",
       "                 T           RH           AH  \n",
       "count  9357.000000  9357.000000  9357.000000  \n",
       "mean     17.982032    48.851037     0.717963  \n",
       "std       8.815266    17.079214     1.575049  \n",
       "min      -1.900000     9.175000    -6.837604  \n",
       "25%      10.950000    36.550000     0.692275  \n",
       "50%      17.200000    48.550000     0.976823  \n",
       "75%      24.075000    61.875000     1.296223  \n",
       "max      44.600000    88.725000     2.231036  "
      ]
     },
     "execution_count": 2,
     "metadata": {},
     "output_type": "execute_result"
    }
   ],
   "source": [
    "df = df.replace(-200,np.nan).fillna(df.mean())\n",
    "df.describe()"
   ]
  },
  {
   "cell_type": "code",
   "execution_count": 3,
   "metadata": {
    "scrolled": true
   },
   "outputs": [
    {
     "data": {
      "text/html": [
       "<div>\n",
       "<style scoped>\n",
       "    .dataframe tbody tr th:only-of-type {\n",
       "        vertical-align: middle;\n",
       "    }\n",
       "\n",
       "    .dataframe tbody tr th {\n",
       "        vertical-align: top;\n",
       "    }\n",
       "\n",
       "    .dataframe thead th {\n",
       "        text-align: right;\n",
       "    }\n",
       "</style>\n",
       "<table border=\"1\" class=\"dataframe\">\n",
       "  <thead>\n",
       "    <tr style=\"text-align: right;\">\n",
       "      <th></th>\n",
       "      <th>CO(GT)</th>\n",
       "      <th>PT08.S1(CO)</th>\n",
       "      <th>NMHC(GT)</th>\n",
       "      <th>C6H6(GT)</th>\n",
       "      <th>PT08.S2(NMHC)</th>\n",
       "      <th>NOx(GT)</th>\n",
       "      <th>PT08.S3(NOx)</th>\n",
       "      <th>NO2(GT)</th>\n",
       "      <th>PT08.S4(NO2)</th>\n",
       "      <th>PT08.S5(O3)</th>\n",
       "      <th>T</th>\n",
       "      <th>RH</th>\n",
       "      <th>AH</th>\n",
       "      <th>week</th>\n",
       "      <th>hour</th>\n",
       "    </tr>\n",
       "  </thead>\n",
       "  <tbody>\n",
       "    <tr>\n",
       "      <th>0</th>\n",
       "      <td>2.6</td>\n",
       "      <td>1360.00</td>\n",
       "      <td>150.000000</td>\n",
       "      <td>11.881723</td>\n",
       "      <td>1045.50</td>\n",
       "      <td>166.0</td>\n",
       "      <td>1056.25</td>\n",
       "      <td>113.0</td>\n",
       "      <td>1692.00</td>\n",
       "      <td>1267.50</td>\n",
       "      <td>13.600</td>\n",
       "      <td>48.875001</td>\n",
       "      <td>0.757754</td>\n",
       "      <td>11</td>\n",
       "      <td>18</td>\n",
       "    </tr>\n",
       "    <tr>\n",
       "      <th>1</th>\n",
       "      <td>2.0</td>\n",
       "      <td>1292.25</td>\n",
       "      <td>112.000000</td>\n",
       "      <td>9.397165</td>\n",
       "      <td>954.75</td>\n",
       "      <td>103.0</td>\n",
       "      <td>1173.75</td>\n",
       "      <td>92.0</td>\n",
       "      <td>1558.75</td>\n",
       "      <td>972.25</td>\n",
       "      <td>13.300</td>\n",
       "      <td>47.700000</td>\n",
       "      <td>0.725487</td>\n",
       "      <td>11</td>\n",
       "      <td>19</td>\n",
       "    </tr>\n",
       "    <tr>\n",
       "      <th>2</th>\n",
       "      <td>2.2</td>\n",
       "      <td>1402.00</td>\n",
       "      <td>88.000000</td>\n",
       "      <td>8.997817</td>\n",
       "      <td>939.25</td>\n",
       "      <td>131.0</td>\n",
       "      <td>1140.00</td>\n",
       "      <td>114.0</td>\n",
       "      <td>1554.50</td>\n",
       "      <td>1074.00</td>\n",
       "      <td>11.900</td>\n",
       "      <td>53.975000</td>\n",
       "      <td>0.750239</td>\n",
       "      <td>11</td>\n",
       "      <td>20</td>\n",
       "    </tr>\n",
       "    <tr>\n",
       "      <th>3</th>\n",
       "      <td>2.2</td>\n",
       "      <td>1375.50</td>\n",
       "      <td>80.000000</td>\n",
       "      <td>9.228796</td>\n",
       "      <td>948.25</td>\n",
       "      <td>172.0</td>\n",
       "      <td>1092.00</td>\n",
       "      <td>122.0</td>\n",
       "      <td>1583.75</td>\n",
       "      <td>1203.25</td>\n",
       "      <td>11.000</td>\n",
       "      <td>60.000000</td>\n",
       "      <td>0.786713</td>\n",
       "      <td>11</td>\n",
       "      <td>21</td>\n",
       "    </tr>\n",
       "    <tr>\n",
       "      <th>4</th>\n",
       "      <td>1.6</td>\n",
       "      <td>1272.25</td>\n",
       "      <td>51.000000</td>\n",
       "      <td>6.518224</td>\n",
       "      <td>835.50</td>\n",
       "      <td>131.0</td>\n",
       "      <td>1205.00</td>\n",
       "      <td>116.0</td>\n",
       "      <td>1490.00</td>\n",
       "      <td>1110.00</td>\n",
       "      <td>11.150</td>\n",
       "      <td>59.575001</td>\n",
       "      <td>0.788794</td>\n",
       "      <td>11</td>\n",
       "      <td>22</td>\n",
       "    </tr>\n",
       "    <tr>\n",
       "      <th>...</th>\n",
       "      <td>...</td>\n",
       "      <td>...</td>\n",
       "      <td>...</td>\n",
       "      <td>...</td>\n",
       "      <td>...</td>\n",
       "      <td>...</td>\n",
       "      <td>...</td>\n",
       "      <td>...</td>\n",
       "      <td>...</td>\n",
       "      <td>...</td>\n",
       "      <td>...</td>\n",
       "      <td>...</td>\n",
       "      <td>...</td>\n",
       "      <td>...</td>\n",
       "      <td>...</td>\n",
       "    </tr>\n",
       "    <tr>\n",
       "      <th>9352</th>\n",
       "      <td>3.1</td>\n",
       "      <td>1314.25</td>\n",
       "      <td>-159.090093</td>\n",
       "      <td>13.529605</td>\n",
       "      <td>1101.25</td>\n",
       "      <td>471.7</td>\n",
       "      <td>538.50</td>\n",
       "      <td>189.8</td>\n",
       "      <td>1374.25</td>\n",
       "      <td>1728.50</td>\n",
       "      <td>21.850</td>\n",
       "      <td>29.250000</td>\n",
       "      <td>0.756824</td>\n",
       "      <td>14</td>\n",
       "      <td>10</td>\n",
       "    </tr>\n",
       "    <tr>\n",
       "      <th>9353</th>\n",
       "      <td>2.4</td>\n",
       "      <td>1162.50</td>\n",
       "      <td>-159.090093</td>\n",
       "      <td>11.355157</td>\n",
       "      <td>1027.00</td>\n",
       "      <td>353.3</td>\n",
       "      <td>603.75</td>\n",
       "      <td>179.2</td>\n",
       "      <td>1263.50</td>\n",
       "      <td>1269.00</td>\n",
       "      <td>24.325</td>\n",
       "      <td>23.725000</td>\n",
       "      <td>0.711864</td>\n",
       "      <td>14</td>\n",
       "      <td>11</td>\n",
       "    </tr>\n",
       "    <tr>\n",
       "      <th>9354</th>\n",
       "      <td>2.4</td>\n",
       "      <td>1142.00</td>\n",
       "      <td>-159.090093</td>\n",
       "      <td>12.374538</td>\n",
       "      <td>1062.50</td>\n",
       "      <td>293.0</td>\n",
       "      <td>603.25</td>\n",
       "      <td>174.7</td>\n",
       "      <td>1240.75</td>\n",
       "      <td>1092.00</td>\n",
       "      <td>26.900</td>\n",
       "      <td>18.350000</td>\n",
       "      <td>0.640649</td>\n",
       "      <td>14</td>\n",
       "      <td>12</td>\n",
       "    </tr>\n",
       "    <tr>\n",
       "      <th>9355</th>\n",
       "      <td>2.1</td>\n",
       "      <td>1002.50</td>\n",
       "      <td>-159.090093</td>\n",
       "      <td>9.547187</td>\n",
       "      <td>960.50</td>\n",
       "      <td>234.5</td>\n",
       "      <td>701.50</td>\n",
       "      <td>155.7</td>\n",
       "      <td>1041.00</td>\n",
       "      <td>769.75</td>\n",
       "      <td>28.325</td>\n",
       "      <td>13.550000</td>\n",
       "      <td>0.513866</td>\n",
       "      <td>14</td>\n",
       "      <td>13</td>\n",
       "    </tr>\n",
       "    <tr>\n",
       "      <th>9356</th>\n",
       "      <td>2.2</td>\n",
       "      <td>1070.75</td>\n",
       "      <td>-159.090093</td>\n",
       "      <td>11.932060</td>\n",
       "      <td>1047.25</td>\n",
       "      <td>265.2</td>\n",
       "      <td>654.00</td>\n",
       "      <td>167.7</td>\n",
       "      <td>1128.50</td>\n",
       "      <td>816.00</td>\n",
       "      <td>28.500</td>\n",
       "      <td>13.125000</td>\n",
       "      <td>0.502804</td>\n",
       "      <td>14</td>\n",
       "      <td>14</td>\n",
       "    </tr>\n",
       "  </tbody>\n",
       "</table>\n",
       "<p>9357 rows × 15 columns</p>\n",
       "</div>"
      ],
      "text/plain": [
       "      CO(GT)  PT08.S1(CO)    NMHC(GT)   C6H6(GT)  PT08.S2(NMHC)  NOx(GT)  \\\n",
       "0        2.6      1360.00  150.000000  11.881723        1045.50    166.0   \n",
       "1        2.0      1292.25  112.000000   9.397165         954.75    103.0   \n",
       "2        2.2      1402.00   88.000000   8.997817         939.25    131.0   \n",
       "3        2.2      1375.50   80.000000   9.228796         948.25    172.0   \n",
       "4        1.6      1272.25   51.000000   6.518224         835.50    131.0   \n",
       "...      ...          ...         ...        ...            ...      ...   \n",
       "9352     3.1      1314.25 -159.090093  13.529605        1101.25    471.7   \n",
       "9353     2.4      1162.50 -159.090093  11.355157        1027.00    353.3   \n",
       "9354     2.4      1142.00 -159.090093  12.374538        1062.50    293.0   \n",
       "9355     2.1      1002.50 -159.090093   9.547187         960.50    234.5   \n",
       "9356     2.2      1070.75 -159.090093  11.932060        1047.25    265.2   \n",
       "\n",
       "      PT08.S3(NOx)  NO2(GT)  PT08.S4(NO2)  PT08.S5(O3)       T         RH  \\\n",
       "0          1056.25    113.0       1692.00      1267.50  13.600  48.875001   \n",
       "1          1173.75     92.0       1558.75       972.25  13.300  47.700000   \n",
       "2          1140.00    114.0       1554.50      1074.00  11.900  53.975000   \n",
       "3          1092.00    122.0       1583.75      1203.25  11.000  60.000000   \n",
       "4          1205.00    116.0       1490.00      1110.00  11.150  59.575001   \n",
       "...            ...      ...           ...          ...     ...        ...   \n",
       "9352        538.50    189.8       1374.25      1728.50  21.850  29.250000   \n",
       "9353        603.75    179.2       1263.50      1269.00  24.325  23.725000   \n",
       "9354        603.25    174.7       1240.75      1092.00  26.900  18.350000   \n",
       "9355        701.50    155.7       1041.00       769.75  28.325  13.550000   \n",
       "9356        654.00    167.7       1128.50       816.00  28.500  13.125000   \n",
       "\n",
       "            AH  week  hour  \n",
       "0     0.757754    11    18  \n",
       "1     0.725487    11    19  \n",
       "2     0.750239    11    20  \n",
       "3     0.786713    11    21  \n",
       "4     0.788794    11    22  \n",
       "...        ...   ...   ...  \n",
       "9352  0.756824    14    10  \n",
       "9353  0.711864    14    11  \n",
       "9354  0.640649    14    12  \n",
       "9355  0.513866    14    13  \n",
       "9356  0.502804    14    14  \n",
       "\n",
       "[9357 rows x 15 columns]"
      ]
     },
     "execution_count": 3,
     "metadata": {},
     "output_type": "execute_result"
    }
   ],
   "source": [
    "df['week'] = pd.DatetimeIndex(df['Date']).week\n",
    "df['hour'] =pd.to_datetime(df['Time'], format='%H:%M:%S').dt.hour\n",
    "df = df.drop(['Date','Time'],axis=1)\n",
    "df"
   ]
  },
  {
   "cell_type": "markdown",
   "metadata": {},
   "source": [
    "#### Data Visualisation\n",
    "\n",
    "We visualise the data by plotting boxplots iteratively. Also, we filtered the entries to be only two standard deviations from the mean."
   ]
  },
  {
   "cell_type": "code",
   "execution_count": 4,
   "metadata": {
    "scrolled": true
   },
   "outputs": [
    {
     "data": {
      "image/png": "[encoded data removed]",
      "text/plain": [
       "<Figure size 432x288 with 1 Axes>"
      ]
     },
     "metadata": {
      "needs_background": "light"
     },
     "output_type": "display_data"
    },
    {
     "data": {
      "image/png": "[encoded data removed]",
      "text/plain": [
       "<Figure size 432x288 with 1 Axes>"
      ]
     },
     "metadata": {
      "needs_background": "light"
     },
     "output_type": "display_data"
    },
    {
     "data": {
      "image/png": "[encoded data removed]",
      "text/plain": [
       "<Figure size 432x288 with 1 Axes>"
      ]
     },
     "metadata": {
      "needs_background": "light"
     },
     "output_type": "display_data"
    },
    {
     "data": {
      "image/png": "[encoded data removed]",
      "text/plain": [
       "<Figure size 432x288 with 1 Axes>"
      ]
     },
     "metadata": {
      "needs_background": "light"
     },
     "output_type": "display_data"
    },
    {
     "data": {
      "image/png": "[encoded data removed]",
      "text/plain": [
       "<Figure size 432x288 with 1 Axes>"
      ]
     },
     "metadata": {
      "needs_background": "light"
     },
     "output_type": "display_data"
    },
    {
     "data": {
      "image/png": "[encoded data removed]",
      "text/plain": [
       "<Figure size 432x288 with 1 Axes>"
      ]
     },
     "metadata": {
      "needs_background": "light"
     },
     "output_type": "display_data"
    },
    {
     "data": {
      "image/png": "[encoded data removed]",
      "text/plain": [
       "<Figure size 432x288 with 1 Axes>"
      ]
     },
     "metadata": {
      "needs_background": "light"
     },
     "output_type": "display_data"
    },
    {
     "data": {
      "image/png": "[encoded data removed]",
      "text/plain": [
       "<Figure size 432x288 with 1 Axes>"
      ]
     },
     "metadata": {
      "needs_background": "light"
     },
     "output_type": "display_data"
    },
    {
     "data": {
      "image/png": "[encoded data removed]",
      "text/plain": [
       "<Figure size 432x288 with 1 Axes>"
      ]
     },
     "metadata": {
      "needs_background": "light"
     },
     "output_type": "display_data"
    },
    {
     "data": {
      "image/png": "[encoded data removed]",
      "text/plain": [
       "<Figure size 432x288 with 1 Axes>"
      ]
     },
     "metadata": {
      "needs_background": "light"
     },
     "output_type": "display_data"
    },
    {
     "data": {
      "image/png": "[encoded data removed]",
      "text/plain": [
       "<Figure size 432x288 with 1 Axes>"
      ]
     },
     "metadata": {
      "needs_background": "light"
     },
     "output_type": "display_data"
    },
    {
     "data": {
      "image/png": "[encoded data removed]",
      "text/plain": [
       "<Figure size 432x288 with 1 Axes>"
      ]
     },
     "metadata": {
      "needs_background": "light"
     },
     "output_type": "display_data"
    },
    {
     "data": {
      "image/png": "[encoded data removed]",
      "text/plain": [
       "<Figure size 432x288 with 1 Axes>"
      ]
     },
     "metadata": {
      "needs_background": "light"
     },
     "output_type": "display_data"
    }
   ],
   "source": [
    "for column in df.iloc[:,:-2].columns:\n",
    "    df = df[(np.abs(stats.zscore(df[column])) < 2)]\n",
    "    plt.figure()\n",
    "    sns.boxplot(x=df[column])\n",
    "    plt.show()"
   ]
  },
  {
   "cell_type": "markdown",
   "metadata": {},
   "source": [
    "We find the hourly change in pollutant level, by taking the differences in the readings:"
   ]
  },
  {
   "cell_type": "code",
   "execution_count": 5,
   "metadata": {
    "scrolled": true
   },
   "outputs": [
    {
     "data": {
      "text/html": [
       "<div>\n",
       "<style scoped>\n",
       "    .dataframe tbody tr th:only-of-type {\n",
       "        vertical-align: middle;\n",
       "    }\n",
       "\n",
       "    .dataframe tbody tr th {\n",
       "        vertical-align: top;\n",
       "    }\n",
       "\n",
       "    .dataframe thead th {\n",
       "        text-align: right;\n",
       "    }\n",
       "</style>\n",
       "<table border=\"1\" class=\"dataframe\">\n",
       "  <thead>\n",
       "    <tr style=\"text-align: right;\">\n",
       "      <th></th>\n",
       "      <th>CO(GT)</th>\n",
       "      <th>PT08.S1(CO)</th>\n",
       "      <th>NMHC(GT)</th>\n",
       "      <th>C6H6(GT)</th>\n",
       "      <th>PT08.S2(NMHC)</th>\n",
       "      <th>NOx(GT)</th>\n",
       "      <th>PT08.S3(NOx)</th>\n",
       "      <th>NO2(GT)</th>\n",
       "      <th>PT08.S4(NO2)</th>\n",
       "      <th>PT08.S5(O3)</th>\n",
       "      <th>T</th>\n",
       "      <th>RH</th>\n",
       "      <th>AH</th>\n",
       "      <th>week</th>\n",
       "      <th>hour</th>\n",
       "    </tr>\n",
       "  </thead>\n",
       "  <tbody>\n",
       "    <tr>\n",
       "      <th>0</th>\n",
       "      <td>0.1</td>\n",
       "      <td>-41.00</td>\n",
       "      <td>0.0</td>\n",
       "      <td>-2.128227</td>\n",
       "      <td>-80.00</td>\n",
       "      <td>15.0000</td>\n",
       "      <td>45.75</td>\n",
       "      <td>1.000000</td>\n",
       "      <td>-116.50</td>\n",
       "      <td>-7.75</td>\n",
       "      <td>-1.300</td>\n",
       "      <td>4.450000</td>\n",
       "      <td>0.823302</td>\n",
       "      <td>12</td>\n",
       "      <td>5</td>\n",
       "    </tr>\n",
       "    <tr>\n",
       "      <th>1</th>\n",
       "      <td>-0.3</td>\n",
       "      <td>-29.75</td>\n",
       "      <td>0.0</td>\n",
       "      <td>-0.839933</td>\n",
       "      <td>-53.75</td>\n",
       "      <td>122.6042</td>\n",
       "      <td>67.25</td>\n",
       "      <td>2.135898</td>\n",
       "      <td>-43.50</td>\n",
       "      <td>-95.75</td>\n",
       "      <td>0.275</td>\n",
       "      <td>-1.724999</td>\n",
       "      <td>0.821851</td>\n",
       "      <td>12</td>\n",
       "      <td>12</td>\n",
       "    </tr>\n",
       "    <tr>\n",
       "      <th>2</th>\n",
       "      <td>0.1</td>\n",
       "      <td>-8.50</td>\n",
       "      <td>0.0</td>\n",
       "      <td>0.354212</td>\n",
       "      <td>23.50</td>\n",
       "      <td>-117.6042</td>\n",
       "      <td>32.25</td>\n",
       "      <td>-10.135898</td>\n",
       "      <td>-19.75</td>\n",
       "      <td>-86.25</td>\n",
       "      <td>0.650</td>\n",
       "      <td>-6.600000</td>\n",
       "      <td>0.851493</td>\n",
       "      <td>12</td>\n",
       "      <td>13</td>\n",
       "    </tr>\n",
       "    <tr>\n",
       "      <th>3</th>\n",
       "      <td>0.8</td>\n",
       "      <td>155.00</td>\n",
       "      <td>0.0</td>\n",
       "      <td>4.733077</td>\n",
       "      <td>240.50</td>\n",
       "      <td>38.0000</td>\n",
       "      <td>-296.00</td>\n",
       "      <td>24.000000</td>\n",
       "      <td>225.75</td>\n",
       "      <td>200.00</td>\n",
       "      <td>-0.225</td>\n",
       "      <td>-0.525001</td>\n",
       "      <td>0.782925</td>\n",
       "      <td>12</td>\n",
       "      <td>14</td>\n",
       "    </tr>\n",
       "    <tr>\n",
       "      <th>4</th>\n",
       "      <td>1.9</td>\n",
       "      <td>192.00</td>\n",
       "      <td>0.0</td>\n",
       "      <td>7.445020</td>\n",
       "      <td>268.25</td>\n",
       "      <td>135.0000</td>\n",
       "      <td>-222.50</td>\n",
       "      <td>55.000000</td>\n",
       "      <td>234.75</td>\n",
       "      <td>440.75</td>\n",
       "      <td>1.700</td>\n",
       "      <td>-9.674999</td>\n",
       "      <td>0.627469</td>\n",
       "      <td>12</td>\n",
       "      <td>15</td>\n",
       "    </tr>\n",
       "    <tr>\n",
       "      <th>...</th>\n",
       "      <td>...</td>\n",
       "      <td>...</td>\n",
       "      <td>...</td>\n",
       "      <td>...</td>\n",
       "      <td>...</td>\n",
       "      <td>...</td>\n",
       "      <td>...</td>\n",
       "      <td>...</td>\n",
       "      <td>...</td>\n",
       "      <td>...</td>\n",
       "      <td>...</td>\n",
       "      <td>...</td>\n",
       "      <td>...</td>\n",
       "      <td>...</td>\n",
       "      <td>...</td>\n",
       "    </tr>\n",
       "    <tr>\n",
       "      <th>1887</th>\n",
       "      <td>-0.8</td>\n",
       "      <td>-93.25</td>\n",
       "      <td>0.0</td>\n",
       "      <td>-3.695897</td>\n",
       "      <td>-180.00</td>\n",
       "      <td>-65.3000</td>\n",
       "      <td>159.00</td>\n",
       "      <td>-26.000000</td>\n",
       "      <td>-145.00</td>\n",
       "      <td>-218.50</td>\n",
       "      <td>-1.825</td>\n",
       "      <td>4.400000</td>\n",
       "      <td>1.099106</td>\n",
       "      <td>37</td>\n",
       "      <td>20</td>\n",
       "    </tr>\n",
       "    <tr>\n",
       "      <th>1888</th>\n",
       "      <td>-0.6</td>\n",
       "      <td>-32.00</td>\n",
       "      <td>0.0</td>\n",
       "      <td>-1.581538</td>\n",
       "      <td>-101.00</td>\n",
       "      <td>-50.9000</td>\n",
       "      <td>165.75</td>\n",
       "      <td>-34.700000</td>\n",
       "      <td>-64.75</td>\n",
       "      <td>-131.00</td>\n",
       "      <td>-0.575</td>\n",
       "      <td>1.200000</td>\n",
       "      <td>1.099065</td>\n",
       "      <td>37</td>\n",
       "      <td>21</td>\n",
       "    </tr>\n",
       "    <tr>\n",
       "      <th>1889</th>\n",
       "      <td>0.3</td>\n",
       "      <td>57.75</td>\n",
       "      <td>0.0</td>\n",
       "      <td>1.255770</td>\n",
       "      <td>82.00</td>\n",
       "      <td>48.3000</td>\n",
       "      <td>-116.25</td>\n",
       "      <td>27.600000</td>\n",
       "      <td>60.00</td>\n",
       "      <td>152.00</td>\n",
       "      <td>0.425</td>\n",
       "      <td>-0.975000</td>\n",
       "      <td>1.107071</td>\n",
       "      <td>37</td>\n",
       "      <td>22</td>\n",
       "    </tr>\n",
       "    <tr>\n",
       "      <th>1890</th>\n",
       "      <td>0.4</td>\n",
       "      <td>72.25</td>\n",
       "      <td>0.0</td>\n",
       "      <td>2.440718</td>\n",
       "      <td>128.25</td>\n",
       "      <td>100.1000</td>\n",
       "      <td>-153.00</td>\n",
       "      <td>47.000000</td>\n",
       "      <td>97.75</td>\n",
       "      <td>329.25</td>\n",
       "      <td>-0.450</td>\n",
       "      <td>1.150001</td>\n",
       "      <td>1.122236</td>\n",
       "      <td>37</td>\n",
       "      <td>23</td>\n",
       "    </tr>\n",
       "    <tr>\n",
       "      <th>1891</th>\n",
       "      <td>-0.4</td>\n",
       "      <td>-127.75</td>\n",
       "      <td>0.0</td>\n",
       "      <td>-3.872461</td>\n",
       "      <td>-223.25</td>\n",
       "      <td>-113.8000</td>\n",
       "      <td>253.00</td>\n",
       "      <td>-46.900000</td>\n",
       "      <td>-159.50</td>\n",
       "      <td>-373.00</td>\n",
       "      <td>-0.475</td>\n",
       "      <td>1.575000</td>\n",
       "      <td>1.152509</td>\n",
       "      <td>37</td>\n",
       "      <td>0</td>\n",
       "    </tr>\n",
       "  </tbody>\n",
       "</table>\n",
       "<p>1892 rows × 15 columns</p>\n",
       "</div>"
      ],
      "text/plain": [
       "      CO(GT)  PT08.S1(CO)  NMHC(GT)  C6H6(GT)  PT08.S2(NMHC)   NOx(GT)  \\\n",
       "0        0.1       -41.00       0.0 -2.128227         -80.00   15.0000   \n",
       "1       -0.3       -29.75       0.0 -0.839933         -53.75  122.6042   \n",
       "2        0.1        -8.50       0.0  0.354212          23.50 -117.6042   \n",
       "3        0.8       155.00       0.0  4.733077         240.50   38.0000   \n",
       "4        1.9       192.00       0.0  7.445020         268.25  135.0000   \n",
       "...      ...          ...       ...       ...            ...       ...   \n",
       "1887    -0.8       -93.25       0.0 -3.695897        -180.00  -65.3000   \n",
       "1888    -0.6       -32.00       0.0 -1.581538        -101.00  -50.9000   \n",
       "1889     0.3        57.75       0.0  1.255770          82.00   48.3000   \n",
       "1890     0.4        72.25       0.0  2.440718         128.25  100.1000   \n",
       "1891    -0.4      -127.75       0.0 -3.872461        -223.25 -113.8000   \n",
       "\n",
       "      PT08.S3(NOx)    NO2(GT)  PT08.S4(NO2)  PT08.S5(O3)      T        RH  \\\n",
       "0            45.75   1.000000       -116.50        -7.75 -1.300  4.450000   \n",
       "1            67.25   2.135898        -43.50       -95.75  0.275 -1.724999   \n",
       "2            32.25 -10.135898        -19.75       -86.25  0.650 -6.600000   \n",
       "3          -296.00  24.000000        225.75       200.00 -0.225 -0.525001   \n",
       "4          -222.50  55.000000        234.75       440.75  1.700 -9.674999   \n",
       "...            ...        ...           ...          ...    ...       ...   \n",
       "1887        159.00 -26.000000       -145.00      -218.50 -1.825  4.400000   \n",
       "1888        165.75 -34.700000        -64.75      -131.00 -0.575  1.200000   \n",
       "1889       -116.25  27.600000         60.00       152.00  0.425 -0.975000   \n",
       "1890       -153.00  47.000000         97.75       329.25 -0.450  1.150001   \n",
       "1891        253.00 -46.900000       -159.50      -373.00 -0.475  1.575000   \n",
       "\n",
       "            AH  week  hour  \n",
       "0     0.823302    12     5  \n",
       "1     0.821851    12    12  \n",
       "2     0.851493    12    13  \n",
       "3     0.782925    12    14  \n",
       "4     0.627469    12    15  \n",
       "...        ...   ...   ...  \n",
       "1887  1.099106    37    20  \n",
       "1888  1.099065    37    21  \n",
       "1889  1.107071    37    22  \n",
       "1890  1.122236    37    23  \n",
       "1891  1.152509    37     0  \n",
       "\n",
       "[1892 rows x 15 columns]"
      ]
     },
     "execution_count": 5,
     "metadata": {},
     "output_type": "execute_result"
    }
   ],
   "source": [
    "def find_delta(row):\n",
    "    return row.diff()\n",
    "df=df[(np.abs(stats.zscore(df)) < 3).all(axis=1)]\n",
    "df.iloc[:,:-3] = df.iloc[:,:-3].apply(find_delta).reset_index(drop=True)\n",
    "df = df.dropna().reset_index(drop=True)\n",
    "df"
   ]
  },
  {
   "cell_type": "markdown",
   "metadata": {},
   "source": [
    "Then, we take the summation of the changes of pollutants to produce an overall change in pollutant level, compressed delta:"
   ]
  },
  {
   "cell_type": "code",
   "execution_count": 6,
   "metadata": {
    "scrolled": true
   },
   "outputs": [
    {
     "data": {
      "text/html": [
       "<div>\n",
       "<style scoped>\n",
       "    .dataframe tbody tr th:only-of-type {\n",
       "        vertical-align: middle;\n",
       "    }\n",
       "\n",
       "    .dataframe tbody tr th {\n",
       "        vertical-align: top;\n",
       "    }\n",
       "\n",
       "    .dataframe thead th {\n",
       "        text-align: right;\n",
       "    }\n",
       "</style>\n",
       "<table border=\"1\" class=\"dataframe\">\n",
       "  <thead>\n",
       "    <tr style=\"text-align: right;\">\n",
       "      <th></th>\n",
       "      <th>CO(GT)</th>\n",
       "      <th>PT08.S1(CO)</th>\n",
       "      <th>NMHC(GT)</th>\n",
       "      <th>C6H6(GT)</th>\n",
       "      <th>PT08.S2(NMHC)</th>\n",
       "      <th>NOx(GT)</th>\n",
       "      <th>PT08.S3(NOx)</th>\n",
       "      <th>NO2(GT)</th>\n",
       "      <th>PT08.S4(NO2)</th>\n",
       "      <th>PT08.S5(O3)</th>\n",
       "      <th>T</th>\n",
       "      <th>RH</th>\n",
       "      <th>AH</th>\n",
       "      <th>week</th>\n",
       "      <th>hour</th>\n",
       "      <th>compressed_delta</th>\n",
       "    </tr>\n",
       "  </thead>\n",
       "  <tbody>\n",
       "    <tr>\n",
       "      <th>0</th>\n",
       "      <td>0.1</td>\n",
       "      <td>-41.00</td>\n",
       "      <td>0.0</td>\n",
       "      <td>-2.128227</td>\n",
       "      <td>-80.00</td>\n",
       "      <td>15.0000</td>\n",
       "      <td>45.75</td>\n",
       "      <td>1.000000</td>\n",
       "      <td>-116.50</td>\n",
       "      <td>-7.75</td>\n",
       "      <td>-1.300</td>\n",
       "      <td>4.450000</td>\n",
       "      <td>0.823302</td>\n",
       "      <td>12</td>\n",
       "      <td>5</td>\n",
       "      <td>-3.672289</td>\n",
       "    </tr>\n",
       "    <tr>\n",
       "      <th>1</th>\n",
       "      <td>-0.3</td>\n",
       "      <td>-29.75</td>\n",
       "      <td>0.0</td>\n",
       "      <td>-0.839933</td>\n",
       "      <td>-53.75</td>\n",
       "      <td>122.6042</td>\n",
       "      <td>67.25</td>\n",
       "      <td>2.135898</td>\n",
       "      <td>-43.50</td>\n",
       "      <td>-95.75</td>\n",
       "      <td>0.275</td>\n",
       "      <td>-1.724999</td>\n",
       "      <td>0.821851</td>\n",
       "      <td>12</td>\n",
       "      <td>12</td>\n",
       "      <td>-1.887521</td>\n",
       "    </tr>\n",
       "    <tr>\n",
       "      <th>2</th>\n",
       "      <td>0.1</td>\n",
       "      <td>-8.50</td>\n",
       "      <td>0.0</td>\n",
       "      <td>0.354212</td>\n",
       "      <td>23.50</td>\n",
       "      <td>-117.6042</td>\n",
       "      <td>32.25</td>\n",
       "      <td>-10.135898</td>\n",
       "      <td>-19.75</td>\n",
       "      <td>-86.25</td>\n",
       "      <td>0.650</td>\n",
       "      <td>-6.600000</td>\n",
       "      <td>0.851493</td>\n",
       "      <td>12</td>\n",
       "      <td>13</td>\n",
       "      <td>-3.989570</td>\n",
       "    </tr>\n",
       "    <tr>\n",
       "      <th>3</th>\n",
       "      <td>0.8</td>\n",
       "      <td>155.00</td>\n",
       "      <td>0.0</td>\n",
       "      <td>4.733077</td>\n",
       "      <td>240.50</td>\n",
       "      <td>38.0000</td>\n",
       "      <td>-296.00</td>\n",
       "      <td>24.000000</td>\n",
       "      <td>225.75</td>\n",
       "      <td>200.00</td>\n",
       "      <td>-0.225</td>\n",
       "      <td>-0.525001</td>\n",
       "      <td>0.782925</td>\n",
       "      <td>12</td>\n",
       "      <td>14</td>\n",
       "      <td>7.482829</td>\n",
       "    </tr>\n",
       "    <tr>\n",
       "      <th>4</th>\n",
       "      <td>1.9</td>\n",
       "      <td>192.00</td>\n",
       "      <td>0.0</td>\n",
       "      <td>7.445020</td>\n",
       "      <td>268.25</td>\n",
       "      <td>135.0000</td>\n",
       "      <td>-222.50</td>\n",
       "      <td>55.000000</td>\n",
       "      <td>234.75</td>\n",
       "      <td>440.75</td>\n",
       "      <td>1.700</td>\n",
       "      <td>-9.674999</td>\n",
       "      <td>0.627469</td>\n",
       "      <td>12</td>\n",
       "      <td>15</td>\n",
       "      <td>15.234222</td>\n",
       "    </tr>\n",
       "    <tr>\n",
       "      <th>...</th>\n",
       "      <td>...</td>\n",
       "      <td>...</td>\n",
       "      <td>...</td>\n",
       "      <td>...</td>\n",
       "      <td>...</td>\n",
       "      <td>...</td>\n",
       "      <td>...</td>\n",
       "      <td>...</td>\n",
       "      <td>...</td>\n",
       "      <td>...</td>\n",
       "      <td>...</td>\n",
       "      <td>...</td>\n",
       "      <td>...</td>\n",
       "      <td>...</td>\n",
       "      <td>...</td>\n",
       "      <td>...</td>\n",
       "    </tr>\n",
       "    <tr>\n",
       "      <th>1887</th>\n",
       "      <td>-0.8</td>\n",
       "      <td>-93.25</td>\n",
       "      <td>0.0</td>\n",
       "      <td>-3.695897</td>\n",
       "      <td>-180.00</td>\n",
       "      <td>-65.3000</td>\n",
       "      <td>159.00</td>\n",
       "      <td>-26.000000</td>\n",
       "      <td>-145.00</td>\n",
       "      <td>-218.50</td>\n",
       "      <td>-1.825</td>\n",
       "      <td>4.400000</td>\n",
       "      <td>1.099106</td>\n",
       "      <td>37</td>\n",
       "      <td>20</td>\n",
       "      <td>-9.538923</td>\n",
       "    </tr>\n",
       "    <tr>\n",
       "      <th>1888</th>\n",
       "      <td>-0.6</td>\n",
       "      <td>-32.00</td>\n",
       "      <td>0.0</td>\n",
       "      <td>-1.581538</td>\n",
       "      <td>-101.00</td>\n",
       "      <td>-50.9000</td>\n",
       "      <td>165.75</td>\n",
       "      <td>-34.700000</td>\n",
       "      <td>-64.75</td>\n",
       "      <td>-131.00</td>\n",
       "      <td>-0.575</td>\n",
       "      <td>1.200000</td>\n",
       "      <td>1.099065</td>\n",
       "      <td>37</td>\n",
       "      <td>21</td>\n",
       "      <td>-5.662654</td>\n",
       "    </tr>\n",
       "    <tr>\n",
       "      <th>1889</th>\n",
       "      <td>0.3</td>\n",
       "      <td>57.75</td>\n",
       "      <td>0.0</td>\n",
       "      <td>1.255770</td>\n",
       "      <td>82.00</td>\n",
       "      <td>48.3000</td>\n",
       "      <td>-116.25</td>\n",
       "      <td>27.600000</td>\n",
       "      <td>60.00</td>\n",
       "      <td>152.00</td>\n",
       "      <td>0.425</td>\n",
       "      <td>-0.975000</td>\n",
       "      <td>1.107071</td>\n",
       "      <td>37</td>\n",
       "      <td>22</td>\n",
       "      <td>4.193239</td>\n",
       "    </tr>\n",
       "    <tr>\n",
       "      <th>1890</th>\n",
       "      <td>0.4</td>\n",
       "      <td>72.25</td>\n",
       "      <td>0.0</td>\n",
       "      <td>2.440718</td>\n",
       "      <td>128.25</td>\n",
       "      <td>100.1000</td>\n",
       "      <td>-153.00</td>\n",
       "      <td>47.000000</td>\n",
       "      <td>97.75</td>\n",
       "      <td>329.25</td>\n",
       "      <td>-0.450</td>\n",
       "      <td>1.150001</td>\n",
       "      <td>1.122236</td>\n",
       "      <td>37</td>\n",
       "      <td>23</td>\n",
       "      <td>8.003290</td>\n",
       "    </tr>\n",
       "    <tr>\n",
       "      <th>1891</th>\n",
       "      <td>-0.4</td>\n",
       "      <td>-127.75</td>\n",
       "      <td>0.0</td>\n",
       "      <td>-3.872461</td>\n",
       "      <td>-223.25</td>\n",
       "      <td>-113.8000</td>\n",
       "      <td>253.00</td>\n",
       "      <td>-46.900000</td>\n",
       "      <td>-159.50</td>\n",
       "      <td>-373.00</td>\n",
       "      <td>-0.475</td>\n",
       "      <td>1.575000</td>\n",
       "      <td>1.152509</td>\n",
       "      <td>37</td>\n",
       "      <td>0</td>\n",
       "      <td>-11.089219</td>\n",
       "    </tr>\n",
       "  </tbody>\n",
       "</table>\n",
       "<p>1892 rows × 16 columns</p>\n",
       "</div>"
      ],
      "text/plain": [
       "      CO(GT)  PT08.S1(CO)  NMHC(GT)  C6H6(GT)  PT08.S2(NMHC)   NOx(GT)  \\\n",
       "0        0.1       -41.00       0.0 -2.128227         -80.00   15.0000   \n",
       "1       -0.3       -29.75       0.0 -0.839933         -53.75  122.6042   \n",
       "2        0.1        -8.50       0.0  0.354212          23.50 -117.6042   \n",
       "3        0.8       155.00       0.0  4.733077         240.50   38.0000   \n",
       "4        1.9       192.00       0.0  7.445020         268.25  135.0000   \n",
       "...      ...          ...       ...       ...            ...       ...   \n",
       "1887    -0.8       -93.25       0.0 -3.695897        -180.00  -65.3000   \n",
       "1888    -0.6       -32.00       0.0 -1.581538        -101.00  -50.9000   \n",
       "1889     0.3        57.75       0.0  1.255770          82.00   48.3000   \n",
       "1890     0.4        72.25       0.0  2.440718         128.25  100.1000   \n",
       "1891    -0.4      -127.75       0.0 -3.872461        -223.25 -113.8000   \n",
       "\n",
       "      PT08.S3(NOx)    NO2(GT)  PT08.S4(NO2)  PT08.S5(O3)      T        RH  \\\n",
       "0            45.75   1.000000       -116.50        -7.75 -1.300  4.450000   \n",
       "1            67.25   2.135898        -43.50       -95.75  0.275 -1.724999   \n",
       "2            32.25 -10.135898        -19.75       -86.25  0.650 -6.600000   \n",
       "3          -296.00  24.000000        225.75       200.00 -0.225 -0.525001   \n",
       "4          -222.50  55.000000        234.75       440.75  1.700 -9.674999   \n",
       "...            ...        ...           ...          ...    ...       ...   \n",
       "1887        159.00 -26.000000       -145.00      -218.50 -1.825  4.400000   \n",
       "1888        165.75 -34.700000        -64.75      -131.00 -0.575  1.200000   \n",
       "1889       -116.25  27.600000         60.00       152.00  0.425 -0.975000   \n",
       "1890       -153.00  47.000000         97.75       329.25 -0.450  1.150001   \n",
       "1891        253.00 -46.900000       -159.50      -373.00 -0.475  1.575000   \n",
       "\n",
       "            AH  week  hour  compressed_delta  \n",
       "0     0.823302    12     5         -3.672289  \n",
       "1     0.821851    12    12         -1.887521  \n",
       "2     0.851493    12    13         -3.989570  \n",
       "3     0.782925    12    14          7.482829  \n",
       "4     0.627469    12    15         15.234222  \n",
       "...        ...   ...   ...               ...  \n",
       "1887  1.099106    37    20         -9.538923  \n",
       "1888  1.099065    37    21         -5.662654  \n",
       "1889  1.107071    37    22          4.193239  \n",
       "1890  1.122236    37    23          8.003290  \n",
       "1891  1.152509    37     0        -11.089219  \n",
       "\n",
       "[1892 rows x 16 columns]"
      ]
     },
     "execution_count": 6,
     "metadata": {},
     "output_type": "execute_result"
    }
   ],
   "source": [
    "def compress_delta(row):\n",
    "    return row.sum()\n",
    "\n",
    "#df.iloc[:,:-2] = df.iloc[:,:-3].apply(stats.zscore)\n",
    "df['compressed_delta'] = df.iloc[:,:-2].copy().apply(stats.zscore).apply(compress_delta,axis=1)\n",
    "df"
   ]
  },
  {
   "cell_type": "markdown",
   "metadata": {},
   "source": [
    "### 3. Identifying Key Features\n",
    "\n",
    "To conduct feature selection, we will be using Lasso Regression. It is a form of regularisation and is useful because of its tendency to bring coefficients of unimportant features closer to zero. "
   ]
  },
  {
   "cell_type": "code",
   "execution_count": 7,
   "metadata": {},
   "outputs": [
    {
     "data": {
      "image/png": "[encoded data removed]",
      "text/plain": [
       "<Figure size 432x288 with 1 Axes>"
      ]
     },
     "metadata": {
      "needs_background": "light"
     },
     "output_type": "display_data"
    }
   ],
   "source": [
    "names = df.iloc[:,:-6].columns\n",
    "lasso = Lasso(alpha=0.1)\n",
    "lasso_coef = lasso.fit(df.iloc[:,:-6],df[['compressed_delta']]).coef_\n",
    "_=plt.plot(range(len(names)),lasso_coef)\n",
    "_=plt.xticks(range(len(names)),names,rotation=60)\n",
    "plt.xlabel('Pollutant')\n",
    "plt.ylabel('Coefficient')\n",
    "plt.show()\n"
   ]
  },
  {
   "cell_type": "markdown",
   "metadata": {},
   "source": [
    "Here, we identify that carbon monoxide is a major factor in the overall air pollution, followed by nitrogen dioxide. "
   ]
  },
  {
   "cell_type": "markdown",
   "metadata": {},
   "source": [
    "### 4. Model Exploration\n",
    "There are many choices of regression models to choose from. We will be comparing the training time and the accuracy of the following models:\n",
    "- Linear Regression\n",
    "- ElasticNet Regression (a combination of Ridge and Lasso Regression)\n",
    "- K-Nearest Neighbours\n",
    "\n",
    "#### Cross-validation and hyperparameter tuning\n",
    "Incorporated in the code blocks for ElasticNet and K-Nearest Neighbours models are Grid-Search Cross-Validation, in order to find the best parameters to extract the optimal performance. "
   ]
  },
  {
   "cell_type": "markdown",
   "metadata": {},
   "source": [
    "We separate the dataset into training and testing sets:"
   ]
  },
  {
   "cell_type": "code",
   "execution_count": 8,
   "metadata": {},
   "outputs": [],
   "source": [
    "x_train, x_test, y_train, y_test = train_test_split(df[['compressed_delta']],df[['CO(GT)']],test_size=0.2,random_state=21)\n",
    "x1_train, x1_test, y1_train, y1_test = train_test_split(df[['compressed_delta']],df[['NO2(GT)']],test_size=0.2,random_state=21)"
   ]
  },
  {
   "cell_type": "markdown",
   "metadata": {},
   "source": [
    "**Linear Regression:**\n",
    "\n",
    "For carbon monoxide:"
   ]
  },
  {
   "cell_type": "code",
   "execution_count": 9,
   "metadata": {
    "scrolled": false
   },
   "outputs": [
    {
     "data": {
      "image/png": "[encoded data removed]",
      "text/plain": [
       "<Figure size 432x288 with 1 Axes>"
      ]
     },
     "metadata": {
      "needs_background": "light"
     },
     "output_type": "display_data"
    },
    {
     "name": "stdout",
     "output_type": "stream",
     "text": [
      "0.7926174202227947\n",
      "0.11497688293457031 seconds\n"
     ]
    }
   ],
   "source": [
    "start = time.time()\n",
    "reg = LinearRegression()\n",
    "reg.fit(x_train,y_train)\n",
    "y_hat = reg.predict(x_test)\n",
    "plt.scatter(x_test, y_test,  color='black')\n",
    "plt.plot(x_test, y_hat, color='blue', linewidth=3)\n",
    "plt.xlabel('CO')\n",
    "plt.ylabel('compressed_delta')\n",
    "plt.show()\n",
    "print(reg.score(x_test,y_test))\n",
    "print(str(time.time()-start) + ' seconds')"
   ]
  },
  {
   "cell_type": "markdown",
   "metadata": {},
   "source": [
    "For nitrogen dioxide:"
   ]
  },
  {
   "cell_type": "code",
   "execution_count": 10,
   "metadata": {},
   "outputs": [
    {
     "data": {
      "image/png": "[encoded data removed]",
      "text/plain": [
       "<Figure size 432x288 with 1 Axes>"
      ]
     },
     "metadata": {
      "needs_background": "light"
     },
     "output_type": "display_data"
    },
    {
     "name": "stdout",
     "output_type": "stream",
     "text": [
      "0.5082821424177224\n",
      "0.13866806030273438 seconds\n"
     ]
    }
   ],
   "source": [
    "start = time.time()\n",
    "reg.fit(x1_train,y1_train)\n",
    "y1_hat = reg.predict(x1_test)\n",
    "plt.scatter(x1_test, y1_test,  color='black')\n",
    "plt.plot(x1_test, y1_hat, color='blue', linewidth=3)\n",
    "plt.xlabel('CO')\n",
    "plt.ylabel('compressed_delta')\n",
    "plt.show()\n",
    "print(reg.score(x1_test,y1_test))\n",
    "print(str(time.time()-start) + ' seconds')"
   ]
  },
  {
   "cell_type": "markdown",
   "metadata": {},
   "source": [
    "**ElasticNet Regression:**\n",
    "\n",
    "For carbon monoxide:"
   ]
  },
  {
   "cell_type": "code",
   "execution_count": 11,
   "metadata": {},
   "outputs": [
    {
     "name": "stdout",
     "output_type": "stream",
     "text": [
      "{'alpha': 0.0} 0.8360359475638302\n",
      "5.571530103683472 seconds\n"
     ]
    }
   ],
   "source": [
    "start = time.time()\n",
    "en = ElasticNet(normalize=True)\n",
    "param_grid={'alpha': np.arange(0,10,0.05)}\n",
    "en_cv = GridSearchCV(en,param_grid,cv=5)\n",
    "en_cv.fit(x_train,y_train)\n",
    "print(en_cv.best_params_, en_cv.best_score_)\n",
    "print(str(time.time()-start) + ' seconds')"
   ]
  },
  {
   "cell_type": "code",
   "execution_count": 12,
   "metadata": {
    "scrolled": true
   },
   "outputs": [
    {
     "data": {
      "image/png": "[encoded data removed]",
      "text/plain": [
       "<Figure size 432x288 with 1 Axes>"
      ]
     },
     "metadata": {
      "needs_background": "light"
     },
     "output_type": "display_data"
    }
   ],
   "source": [
    "num_neighbors = np.arange(1,10,0.05)\n",
    "train_accuracy = np.empty(len(num_neighbors))\n",
    "test_accuracy = np.empty(len(num_neighbors))\n",
    "for i, k in enumerate(num_neighbors):\n",
    "    en = ElasticNet(alpha=k)\n",
    "    en.fit(x_train,y_train)\n",
    "    train_accuracy[i] = en.score(x_train, y_train)\n",
    "    test_accuracy[i] = en.score(x_test, y_test)\n",
    "\n",
    "plt.title('ElasticNet: Value of alpha')\n",
    "plt.plot(num_neighbors, test_accuracy, label = 'Testing Accuracy')\n",
    "plt.plot(num_neighbors, train_accuracy, label = 'Training Accuracy')\n",
    "plt.legend()\n",
    "plt.xlabel('Alpha')\n",
    "plt.ylabel('Accuracy')\n",
    "plt.show()"
   ]
  },
  {
   "cell_type": "markdown",
   "metadata": {},
   "source": [
    "For nitrogen dioxide:"
   ]
  },
  {
   "cell_type": "code",
   "execution_count": 13,
   "metadata": {},
   "outputs": [
    {
     "name": "stdout",
     "output_type": "stream",
     "text": [
      "{'alpha': 0.0} 0.4702084679374102\n",
      "5.572226047515869 seconds\n"
     ]
    }
   ],
   "source": [
    "start = time.time()\n",
    "param_grid={'alpha': np.arange(0,10,0.05)}\n",
    "en_cv = GridSearchCV(en,param_grid,cv=5)\n",
    "en_cv.fit(x1_train,y1_train)\n",
    "print(en_cv.best_params_, en_cv.best_score_) \n",
    "print(str(time.time()-start) + ' seconds')"
   ]
  },
  {
   "cell_type": "markdown",
   "metadata": {},
   "source": [
    "**K-Nearest Neighbors:** \n",
    "\n",
    "For carbon monoxide:"
   ]
  },
  {
   "cell_type": "code",
   "execution_count": 14,
   "metadata": {},
   "outputs": [
    {
     "name": "stdout",
     "output_type": "stream",
     "text": [
      "{'n_neighbors': 31} 0.8320199175035066\n",
      "1.6346619129180908 seconds\n"
     ]
    }
   ],
   "source": [
    "start = time.time()\n",
    "knn = KNeighborsRegressor()\n",
    "param_grid = {'n_neighbors': np.arange(1,50)}\n",
    "knn_cv = GridSearchCV(knn,param_grid,cv=5)\n",
    "knn_cv.fit(x_train,y_train)\n",
    "print(knn_cv.best_params_, knn_cv.best_score_)\n",
    "print(str(time.time()-start) + ' seconds')"
   ]
  },
  {
   "cell_type": "code",
   "execution_count": 15,
   "metadata": {
    "scrolled": true
   },
   "outputs": [
    {
     "data": {
      "image/png": "[encoded data removed]",
      "text/plain": [
       "<Figure size 432x288 with 1 Axes>"
      ]
     },
     "metadata": {
      "needs_background": "light"
     },
     "output_type": "display_data"
    }
   ],
   "source": [
    "num_neighbors = np.arange(1,100)\n",
    "train_accuracy = np.empty(len(num_neighbors))\n",
    "test_accuracy = np.empty(len(num_neighbors))\n",
    "for i, k in enumerate(num_neighbors):\n",
    "    knn = KNeighborsRegressor(n_neighbors=k)\n",
    "    knn.fit(x_train,y_train)\n",
    "    train_accuracy[i] = knn.score(x_train, y_train)\n",
    "    test_accuracy[i] = knn.score(x_test, y_test)\n",
    "\n",
    "plt.title('k-NN: Varying Number of Neighbors')\n",
    "plt.plot(num_neighbors, test_accuracy, label = 'Testing Accuracy')\n",
    "plt.plot(num_neighbors, train_accuracy, label = 'Training Accuracy')\n",
    "plt.legend()\n",
    "plt.xlabel('Number of Neighbors')\n",
    "plt.ylabel('Accuracy')\n",
    "plt.show()"
   ]
  },
  {
   "cell_type": "markdown",
   "metadata": {},
   "source": [
    "For nitrogen dioxide:"
   ]
  },
  {
   "cell_type": "code",
   "execution_count": 16,
   "metadata": {},
   "outputs": [
    {
     "name": "stdout",
     "output_type": "stream",
     "text": [
      "{'n_neighbors': 49} 0.47763060486597586\n",
      "1.6412930488586426 seconds\n"
     ]
    }
   ],
   "source": [
    "start = time.time()\n",
    "param_grid = {'n_neighbors': np.arange(1,50)}\n",
    "knn_cv = GridSearchCV(knn,param_grid,cv=5)\n",
    "knn_cv.fit(x1_train,y1_train)\n",
    "print(knn_cv.best_params_, knn_cv.best_score_)\n",
    "print(str(time.time()-start) + ' seconds')"
   ]
  },
  {
   "cell_type": "markdown",
   "metadata": {},
   "source": [
    "### Results and Discussion"
   ]
  },
  {
   "cell_type": "markdown",
   "metadata": {},
   "source": [
    "Here are the ranked scores for each of the models (on CO):\n",
    "\n",
    "- **ElasticNet Regression: 0.8360359475638302**\n",
    "- K-Nearest Neighbours: 0.8320199175035066\n",
    "- Linear Regression: 0.7926174202227947\n",
    "\n",
    "Here are the ranked training times for each of the models (on CO):\n",
    "\n",
    "- **Linear Regression: 0.1209421157836914 seconds**\n",
    "- K-Nearest Neighbours: 1.6551742553710938 seconds\n",
    "- ElasticNet Regression: 5.777506113052368 seconds\n",
    "\n",
    "Based on performance alone, **ElasticNet Regression** is the best model. This is because it is the only model that penalises large coefficients, which means it is less likely to overfit the data. This comes at the expense of additional computing power, though.\n",
    "\n",
    "**Linear Regression** is the best in terms of training time alone. This is because it is the simplest model among the three and requires the least amount of computing power. However, compared to the other two models, it is greatly lacking in accuracy.\n",
    "\n",
    "Therefore, **K-Nearest Neighbours is the best model for this problem**, because it offers decent training time, while having little to no compromise on the accuracy. \n",
    "\n",
    "#### Why are the scores for nitrogen dioxide much lower than carbon monoxide? \n",
    "This is because it is not nearly as key of a feature as carbon monoxide, meaning that it is more susceptible to noise."
   ]
  },
  {
   "cell_type": "markdown",
   "metadata": {},
   "source": [
    "### Conclusion"
   ]
  },
  {
   "cell_type": "markdown",
   "metadata": {},
   "source": [
    "K-Nearest Neighbours is the most suitable algorithm, because:\n",
    "- It has relatively high accuracy\n",
    "- Has much lower training times than Elastic Net Regression while not compromising too much on accuracy.\n",
    "\n",
    "In addition, we can conclude that carbon monoxide is an acceptable measure of the overall air quality. High levels of carbon monoxide typically indicate increasing or high overall pollutant levels."
   ]
  }
 ],
 "metadata": {
  "kernelspec": {
   "display_name": "Python 3",
   "language": "python",
   "name": "python3"
  },
  "language_info": {
   "codemirror_mode": {
    "name": "ipython",
    "version": 3
   },
   "file_extension": ".py",
   "mimetype": "text/x-python",
   "name": "python",
   "nbconvert_exporter": "python",
   "pygments_lexer": "ipython3",
   "version": "3.8.5"
  }
 },
 "nbformat": 4,
 "nbformat_minor": 4
}
